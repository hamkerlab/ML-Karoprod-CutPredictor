{
 "cells": [
  {
   "cell_type": "code",
   "execution_count": null,
   "metadata": {},
   "outputs": [],
   "source": [
    "import numpy as np\n",
    "import pandas as pd"
   ]
  },
  {
   "cell_type": "code",
   "execution_count": null,
   "metadata": {},
   "outputs": [],
   "source": [
    "df_parameters = pd.read_csv(\"../data/doe.csv\", index_col=False)\n",
    "df_parameters.keys()"
   ]
  },
  {
   "cell_type": "code",
   "execution_count": null,
   "metadata": {},
   "outputs": [],
   "source": [
    "df_parameters.head()"
   ]
  },
  {
   "cell_type": "code",
   "execution_count": null,
   "metadata": {},
   "outputs": [],
   "source": [
    "attributes_x0 = [\"tp\", \"deviationc\"]\n",
    "df_x0 = pd.DataFrame(columns=df_parameters.keys().to_list() + attributes_x0)\n",
    "\n",
    "with pd.HDFStore('../data/banane_x0cut_tp_c.h5', mode=\"r\") as store:\n",
    "    \n",
    "    for key in store.keys():\n",
    "        \n",
    "        if not key.startswith('/contours_x0cut_tp/doeid_'):\n",
    "            continue\n",
    "            \n",
    "        #print(key)\n",
    "        idx = int(key[-4:])\n",
    "        \n",
    "        # Parameters\n",
    "        parameters = df_parameters[df_parameters['doe_id']==idx]\n",
    "        print(parameters)\n",
    "        \n",
    "        # Sampled values\n",
    "        df_exp = store.get(key)[attributes_x0]\n",
    "        \n",
    "        for idx, attr in enumerate(df_parameters.keys().to_list()):\n",
    "            df_exp.insert(idx, attr, parameters[attr].to_numpy()[0])\n",
    "            \n",
    "        # Add to the main df\n",
    "        df_x0 = pd.concat([df_x0, df_exp], ignore_index=True,)\n",
    "        \n",
    "df_x0.to_csv(\"../data/cut_x0.csv\", index=False)"
   ]
  }
 ],
 "metadata": {
  "interpreter": {
   "hash": "0623a8ec4bd597eab065752ed1de30aa39c6d40efdfbc7bcfd7fe40f99c37f5e"
  },
  "kernelspec": {
   "display_name": "Python 3.9.9 ('tf')",
   "language": "python",
   "name": "python3"
  },
  "language_info": {
   "codemirror_mode": {
    "name": "ipython",
    "version": 3
   },
   "file_extension": ".py",
   "mimetype": "text/x-python",
   "name": "python",
   "nbconvert_exporter": "python",
   "pygments_lexer": "ipython3",
   "version": "3.9.9"
  },
  "orig_nbformat": 4
 },
 "nbformat": 4,
 "nbformat_minor": 2
}
