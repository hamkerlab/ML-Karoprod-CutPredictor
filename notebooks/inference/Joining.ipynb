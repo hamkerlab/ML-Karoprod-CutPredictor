{
 "cells": [
  {
   "cell_type": "markdown",
   "metadata": {},
   "source": [
    "# Joining"
   ]
  },
  {
   "cell_type": "code",
   "execution_count": 1,
   "metadata": {},
   "outputs": [],
   "source": [
    "import numpy as np\n",
    "import pandas as pd\n",
    "\n",
    "import matplotlib.pyplot as plt\n",
    "plt.rcParams['figure.dpi'] = 120\n",
    "\n",
    "\n",
    "from cut_predictor import DoubleProjectionPredictor"
   ]
  },
  {
   "cell_type": "code",
   "execution_count": 2,
   "metadata": {},
   "outputs": [
    {
     "name": "stdout",
     "output_type": "stream",
     "text": [
      "Metal device set to: Apple M1 Pro\n",
      "\n",
      "systemMemory: 16.00 GB\n",
      "maxCacheSize: 5.33 GB\n",
      "\n"
     ]
    }
   ],
   "source": [
    "reg_xyz = DoubleProjectionPredictor()\n",
    "reg_xyz.load_config('../../models/joining_xyz.pkl')\n",
    "reg_xyz.load_network('../../models/best_joining_xyz_model/')"
   ]
  },
  {
   "cell_type": "code",
   "execution_count": 3,
   "metadata": {},
   "outputs": [],
   "source": [
    "reg_thickness = DoubleProjectionPredictor()\n",
    "reg_thickness.load_config('../../models/joining_thickness.pkl')\n",
    "reg_thickness.load_network('../../models/best_joining_thickness_model/')"
   ]
  },
  {
   "cell_type": "code",
   "execution_count": 4,
   "metadata": {},
   "outputs": [],
   "source": [
    "process_parameters={\n",
    "    # Joining\n",
    "    'Spanner_1': -3,\n",
    "    'Spanner_2': -3,\n",
    "    'Spanner_3': -5,\n",
    "    'Spanner_4': 3,\n",
    "    'Oberblech_MID': 5,\n",
    "    'Unterblech_MID': 3,\n",
    "\n",
    "    # Top\n",
    "    'Blechdicke_top': 1.48, \n",
    "    'Niederhalterkraft_top': 400, \n",
    "    'Ziehspalt_top': 2.4, \n",
    "    'Einlegeposition_top': -4, \n",
    "    'Ziehtiefe_top': 50,\n",
    "    'Rp0_top': 235.160326,\n",
    "\n",
    "    # Bottom\n",
    "    'Blechdicke_bot': 1.01, \n",
    "    'Niederhalterkraft_bot': 410, \n",
    "    'Ziehspalt_bot': 2.4, \n",
    "    'Einlegeposition_bot': -5, \n",
    "    'Ziehtiefe_bot': 30,\n",
    "    'Rp0_bot': 138.226960,\n",
    "}"
   ]
  },
  {
   "cell_type": "markdown",
   "metadata": {},
   "source": [
    "## 3D prediction"
   ]
  },
  {
   "cell_type": "code",
   "execution_count": null,
   "metadata": {},
   "outputs": [],
   "source": [
    "df_xyz = reg_xyz.predict(\n",
    "    process_parameters,\n",
    "    positions=(500, 500),\n",
    "    as_df=True\n",
    ")\n",
    "df_thickness = reg_thickness.predict(\n",
    "    process_parameters,\n",
    "    positions=(500, 500),\n",
    "    as_df=True\n",
    ")\n",
    "\n",
    "df = df_xyz[['x', 'y', 'z']].copy()\n",
    "df['thickness'] = df_thickness['thickness']\n",
    "df['epseqpl'] = df_thickness['epseqpl']\n",
    "df['thinning'] = df_thickness['thinning']"
   ]
  },
  {
   "cell_type": "code",
   "execution_count": null,
   "metadata": {},
   "outputs": [],
   "source": [
    "import plotly\n",
    "import plotly.graph_objs as go\n",
    "plotly.offline.init_notebook_mode()\n",
    "\n",
    "def plotly_show_surface(df):\n",
    "    y = df[['x', 'y', 'z']].to_numpy()\n",
    "    N, _ = y.shape\n",
    "    # Configure the trace.\n",
    "    trace_top = go.Scatter3d(\n",
    "        x=y[:int(N/2), 0],  \n",
    "        y=y[:int(N/2), 1],\n",
    "        z=y[:int(N/2), 2],\n",
    "        mode='markers',\n",
    "        marker={\n",
    "            'size': 1.0,\n",
    "            'opacity': 1.0,\n",
    "        }\n",
    "    )\n",
    "    trace_bot = go.Scatter3d(\n",
    "        x=y[int(N/2):, 0],  \n",
    "        y=y[int(N/2):, 1],\n",
    "        z=y[int(N/2):, 2],\n",
    "        mode='markers',\n",
    "        marker={\n",
    "            'size': 1.0,\n",
    "            'opacity': 1.0,\n",
    "        }\n",
    "    )\n",
    "    layout = go.Layout(margin={'l': 0, 'r': 0, 'b': 0, 't': 0})\n",
    "    plot_figure = go.Figure(data=[trace_top, trace_bot], layout=layout)\n",
    "    plotly.offline.iplot(plot_figure)\n",
    "\n",
    "def plotly_show_features(df, feature):\n",
    "    y = df[['x', 'y', 'z', feature]].to_numpy()\n",
    "    N, _ = y.shape\n",
    "    # Configure the trace.\n",
    "    trace_top = go.Scatter3d(\n",
    "        x=y[:int(N/2), 0],  \n",
    "        y=y[:int(N/2), 1],\n",
    "        z=y[:int(N/2), 2],\n",
    "        mode='markers',\n",
    "        marker={\n",
    "            'size': 1.0,\n",
    "            'opacity': 1.0,\n",
    "            'color': y[:int(N/2), 3],\n",
    "        }\n",
    "    )\n",
    "    trace_bot = go.Scatter3d(\n",
    "        x=y[int(N/2):, 0],  \n",
    "        y=y[int(N/2):, 1],\n",
    "        z=y[int(N/2):, 2],\n",
    "        mode='markers',\n",
    "        marker={\n",
    "            'size': 1.0,\n",
    "            'opacity': 1.0,\n",
    "            'color': y[int(N/2):, 3],\n",
    "        }\n",
    "    )\n",
    "    layout = go.Layout(margin={'l': 0, 'r': 0, 'b': 0, 't': 0})\n",
    "    plot_figure = go.Figure(data=[trace_top, trace_bot], layout=layout)\n",
    "    plotly.offline.iplot(plot_figure)\n",
    "\n",
    "%matplotlib inline\n",
    "plt.rcParams['figure.dpi'] = 150\n",
    "\n",
    "def mpl_show_surface(df):\n",
    "\n",
    "    y = df[['x', 'y', 'z']].to_numpy()\n",
    "    N, _ = y.shape\n",
    "\n",
    "    fig = plt.figure()\n",
    "    ax = fig.add_subplot(111, projection='3d')\n",
    "    p = ax.scatter(\n",
    "        y[:int(N/2), 0],  \n",
    "        y[:int(N/2), 1],\n",
    "        y[:int(N/2), 2],\n",
    "        s=0.001\n",
    "    )\n",
    "    p = ax.scatter(\n",
    "        y[int(N/2):, 0],  \n",
    "        y[int(N/2):, 1],\n",
    "        y[int(N/2):, 2],\n",
    "        s=0.005\n",
    "    )\n",
    "    plt.show()"
   ]
  },
  {
   "cell_type": "code",
   "execution_count": null,
   "metadata": {},
   "outputs": [],
   "source": [
    "plotly_show_surface(df_xyz)"
   ]
  },
  {
   "cell_type": "code",
   "execution_count": null,
   "metadata": {},
   "outputs": [],
   "source": [
    "plotly_show_features(df, 'thickness')"
   ]
  },
  {
   "cell_type": "code",
   "execution_count": null,
   "metadata": {},
   "outputs": [],
   "source": [
    "plotly_show_features(df, 'epseqpl')"
   ]
  },
  {
   "cell_type": "code",
   "execution_count": null,
   "metadata": {},
   "outputs": [],
   "source": [
    "plotly_show_features(df, 'thinning')"
   ]
  },
  {
   "cell_type": "markdown",
   "metadata": {},
   "source": [
    "## x0 cut"
   ]
  },
  {
   "cell_type": "code",
   "execution_count": 5,
   "metadata": {},
   "outputs": [],
   "source": [
    "x0_cut = pd.DataFrame({\"u\": .5, \"v\": np.linspace(0., 1. , 100)}).to_numpy()\n",
    "\n",
    "df_xyz = reg_xyz.predict(\n",
    "    process_parameters,\n",
    "    positions=x0_cut,\n",
    "    as_df=True\n",
    ")\n",
    "df_thickness = reg_thickness.predict(\n",
    "    process_parameters,\n",
    "    positions=x0_cut,\n",
    "    as_df=True\n",
    ")\n",
    "\n",
    "df = df_xyz[['x', 'y', 'z']].copy()\n",
    "df['thickness'] = df_thickness['thickness']\n",
    "df['epseqpl'] = df_thickness['epseqpl']\n",
    "df['thinning'] = df_thickness['thinning']"
   ]
  },
  {
   "cell_type": "code",
   "execution_count": 15,
   "metadata": {},
   "outputs": [
    {
     "data": {
      "image/png": "[encoded data removed]",
      "text/plain": [
       "<Figure size 720x480 with 1 Axes>"
      ]
     },
     "metadata": {
      "needs_background": "light"
     },
     "output_type": "display_data"
    }
   ],
   "source": [
    "def plot_cut(df):\n",
    "    \n",
    "    y = df[['x', 'y', 'z', 'thickness']].to_numpy()\n",
    "    N, _ = y.shape\n",
    "\n",
    "    plt.figure()\n",
    "    plt.plot(y[:int(N/2), 1], y[:int(N/2), 2] - y[:int(N/2), 3]/2)\n",
    "    plt.plot(y[int(N/2):, 1], y[int(N/2):, 2] + y[int(N/2):, 3]/2)\n",
    "    plt.xlabel(\"y\")\n",
    "    plt.ylabel(\"z\")\n",
    "    plt.title(\"x0 cut\")\n",
    "\n",
    "plot_cut(df)"
   ]
  },
  {
   "cell_type": "code",
   "execution_count": null,
   "metadata": {},
   "outputs": [],
   "source": []
  }
 ],
 "metadata": {
  "kernelspec": {
   "display_name": "Python 3.9.9 ('tf')",
   "language": "python",
   "name": "python3"
  },
  "language_info": {
   "codemirror_mode": {
    "name": "ipython",
    "version": 3
   },
   "file_extension": ".py",
   "mimetype": "text/x-python",
   "name": "python",
   "nbconvert_exporter": "python",
   "pygments_lexer": "ipython3",
   "version": "3.9.9"
  },
  "vscode": {
   "interpreter": {
    "hash": "0623a8ec4bd597eab065752ed1de30aa39c6d40efdfbc7bcfd7fe40f99c37f5e"
   }
  }
 },
 "nbformat": 4,
 "nbformat_minor": 4
}
